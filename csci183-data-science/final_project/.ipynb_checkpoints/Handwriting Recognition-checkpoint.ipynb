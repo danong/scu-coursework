{
 "cells": [
  {
   "cell_type": "markdown",
   "metadata": {},
   "source": [
    "# Handwriting Recognition Using Logistic Regression"
   ]
  },
  {
   "cell_type": "markdown",
   "metadata": {},
   "source": [
    "## Identify the Problem\n",
    "\n",
    "Identifying handwritten characters is a common problem in computer vision applications. For example, the USPS uses algorithms to recognize handwritten addresses on envelopes to enable automated mail sorting. Solving this problem using traditional strategies (i.e. edge detection) can be challenging. Can we use data science techniques to recognize handwritten digits (e.g. 0, 1, 2, ... , 9) with a reasonable degree of accuracy?"
   ]
  },
  {
   "cell_type": "markdown",
   "metadata": {},
   "source": [
    "## Acquire the Data\n",
    "The MNIST data set is a collection of 70,000 labeled images of handwritten digits. http://yann.lecun.com/exdb/mnist/\n",
    "\n",
    "We use a pre-processed and pickled version of the dataset made by deeplearning.net. The pickled version can be downloaded from: http://deeplearning.net/data/mnist/mnist.pkl.gz"
   ]
  },
  {
   "cell_type": "code",
   "execution_count": 43,
   "metadata": {
    "collapsed": true
   },
   "outputs": [],
   "source": [
    "import os\n",
    "from sklearn import linear_model, cross_validation, metrics\n",
    "import pandas as pd\n",
    "import matplotlib.pyplot as plt\n",
    "import cPickle\n",
    "import gzip"
   ]
  },
  {
   "cell_type": "code",
   "execution_count": 44,
   "metadata": {
    "collapsed": false
   },
   "outputs": [],
   "source": [
    "# for convinience, we use a pickled version of the MNIST dataset\n",
    "f = gzip.open('mnist.pkl.gz', 'rb')\n",
    "train_set, valid_set, test_set = cPickle.load(f)\n",
    "f.close()"
   ]
  },
  {
   "cell_type": "markdown",
   "metadata": {},
   "source": [
    "## Parse, Mine, and Refine the Data\n",
    "\n",
    "'train_set' is a tuple. The first element is an array where each row represents an image. An image consists of 28x28 pixels where each pixel is represented as a float.\n",
    "\n",
    "The second element is an array of the corresponding labels for each image.\n",
    "\n",
    "We can extract a single training example and plot it using pyplot."
   ]
  },
  {
   "cell_type": "markdown",
   "metadata": {},
   "source": [
    "<img src='assets\\example_image.png'>"
   ]
  },
  {
   "cell_type": "code",
   "execution_count": 45,
   "metadata": {
    "collapsed": false
   },
   "outputs": [],
   "source": [
    "# PLOT IMAGE\n",
    "# image is rc/binary format\n",
    "plt.rc('image', cmap='binary')\n",
    "# reshape first training image into 28x28 format\n",
    "plt.matshow((train_set[0][0]).reshape(28, 28))\n",
    "# label of first training image\n",
    "plt.title(\"Label: %d\" % train_set[1][0])\n",
    "plt.show()"
   ]
  },
  {
   "cell_type": "markdown",
   "metadata": {},
   "source": [
    "The 70,000 images are split as follows:\n",
    "* 50,000 are put into the training set\n",
    "* 10,000 are put into the validation set\n",
    "* 10,000 are put into the test set"
   ]
  },
  {
   "cell_type": "code",
   "execution_count": 46,
   "metadata": {
    "collapsed": false
   },
   "outputs": [
    {
     "name": "stdout",
     "output_type": "stream",
     "text": [
      "Length of training set: 50000\n",
      "Length of validation set: 10000\n",
      "Length of test set: 10000\n"
     ]
    }
   ],
   "source": [
    "print(\"Length of training set: %d\" % len(train_set[0]))\n",
    "print(\"Length of validation set: %d\" % len(valid_set[0]))\n",
    "print(\"Length of test set: %d\" % len(test_set[0]))"
   ]
  },
  {
   "cell_type": "markdown",
   "metadata": {},
   "source": [
    "## Build a Model\n",
    "\n",
    "Since this is a classification task, we use train a logistic regression model to classify images into one of 10 categories: 0, 1, 2, ..., 9."
   ]
  },
  {
   "cell_type": "code",
   "execution_count": 47,
   "metadata": {
    "collapsed": false
   },
   "outputs": [
    {
     "data": {
      "text/plain": [
       "LogisticRegression(C=1.0, class_weight=None, dual=False, fit_intercept=True,\n",
       "          intercept_scaling=1, max_iter=100, multi_class='ovr', n_jobs=1,\n",
       "          penalty='l2', random_state=None, solver='liblinear', tol=0.0001,\n",
       "          verbose=0, warm_start=False)"
      ]
     },
     "execution_count": 47,
     "metadata": {},
     "output_type": "execute_result"
    }
   ],
   "source": [
    "model = linear_model.LogisticRegression()\n",
    "model.fit(train_set[0], train_set[1])"
   ]
  },
  {
   "cell_type": "code",
   "execution_count": 48,
   "metadata": {
    "collapsed": false
   },
   "outputs": [
    {
     "name": "stdout",
     "output_type": "stream",
     "text": [
      "0.9198\n",
      "[(7, 7), (2, 2), (1, 1), (0, 0), (4, 4), (1, 1), (4, 4), (9, 9), (6, 5), (9, 9), (0, 0), (6, 6), (9, 9), (0, 0), (1, 1), (5, 5), (9, 9), (7, 7), (3, 3), (4, 4), (9, 9), (6, 6), (6, 6), (5, 5), (4, 4), (0, 0), (7, 7), (4, 4), (0, 0), (1, 1), (3, 3), (1, 1), (3, 3), (4, 4), (7, 7), (2, 2), (7, 7), (1, 1), (3, 2), (1, 1), (1, 1), (7, 7), (4, 4), (2, 2), (3, 3), (5, 5), (1, 1), (2, 2), (4, 4), (4, 4), (6, 6), (3, 3), (5, 5), (5, 5), (6, 6), (0, 0), (4, 4), (1, 1), (9, 9), (5, 5), (7, 7), (8, 8), (9, 9), (2, 3), (7, 7), (4, 4), (6, 6), (4, 4), (3, 3), (0, 0), (7, 7), (0, 0), (2, 2), (9, 9), (1, 1), (7, 7), (3, 3), (2, 2), (9, 9), (7, 7), (7, 7), (6, 6), (2, 2), (7, 7), (8, 8), (4, 4), (7, 7), (3, 3), (6, 6), (1, 1), (3, 3), (6, 6), (9, 9), (3, 3), (1, 1), (4, 4), (1, 1), (7, 7), (6, 6), (9, 9)]\n"
     ]
    }
   ],
   "source": [
    "pred = model.predict(test_set[0])\n",
    "print metrics.accuracy_score(test_set[1], pred)\n",
    "print zip(pred[0:100], test_set[1][0:100])"
   ]
  },
  {
   "cell_type": "markdown",
   "metadata": {},
   "source": [
    "## Present the Results\n",
    "\n",
    "Using logistic regression, we correctly recognize images in the test set ~92% of the time."
   ]
  }
 ],
 "metadata": {
  "kernelspec": {
   "display_name": "Python 2",
   "language": "python",
   "name": "python2"
  },
  "language_info": {
   "codemirror_mode": {
    "name": "ipython",
    "version": 2
   },
   "file_extension": ".py",
   "mimetype": "text/x-python",
   "name": "python",
   "nbconvert_exporter": "python",
   "pygments_lexer": "ipython2",
   "version": "2.7.11"
  }
 },
 "nbformat": 4,
 "nbformat_minor": 0
}
